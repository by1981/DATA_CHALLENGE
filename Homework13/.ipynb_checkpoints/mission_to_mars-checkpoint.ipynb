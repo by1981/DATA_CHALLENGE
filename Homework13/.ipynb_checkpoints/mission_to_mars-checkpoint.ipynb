{
 "cells": [
  {
   "cell_type": "code",
   "execution_count": 1,
   "metadata": {},
   "outputs": [],
   "source": [
    "import time\n",
    "from splinter import Browser\n",
    "from splinter.exceptions import ElementDoesNotExist\n",
    "from bs4 import BeautifulSoup\n",
    "import requests\n",
    "import pandas as pd"
   ]
  },
  {
   "cell_type": "code",
   "execution_count": 2,
   "metadata": {},
   "outputs": [
    {
     "name": "stdout",
     "output_type": "stream",
     "text": [
      "/usr/local/bin/chromedriver\r\n"
     ]
    }
   ],
   "source": [
    "!which chromedriver"
   ]
  },
  {
   "cell_type": "code",
   "execution_count": 3,
   "metadata": {},
   "outputs": [],
   "source": [
    "executable_path = {\"executable_path\": \"/usr/local/bin/chromedriver\"}\n",
    "browser=Browser(\"chrome\", **executable_path, headless=False)"
   ]
  },
  {
   "cell_type": "code",
   "execution_count": 4,
   "metadata": {},
   "outputs": [
    {
     "data": {
      "text/plain": [
       "'https://www.jpl.nasa.gov//spaceimages/images/largesize/PIA17046_hires.jpg'"
      ]
     },
     "execution_count": 4,
     "metadata": {},
     "output_type": "execute_result"
    }
   ],
   "source": [
    "img_url ='https://www.jpl.nasa.gov/spaceimages/?search=&category=Mars'\n",
    "browser.visit(img_url)\n",
    "time.sleep(1)\n",
    "browser.click_link_by_partial_text('FULL IMAGE')\n",
    "time.sleep(1)\n",
    "more_info = browser.find_link_by_partial_text('more info')\n",
    "more_info.click()\n",
    "image_page = browser.html\n",
    "soup = BeautifulSoup(image_page, 'lxml')\n",
    "image_link = soup.find('figure', class_='lede').find('img')['src']\n",
    "image_link\n",
    "featured_image_url = (\"https://www.jpl.nasa.gov/\" + image_link)\n",
    "featured_image_url"
   ]
  },
  {
   "cell_type": "code",
   "execution_count": 5,
   "metadata": {
    "scrolled": true
   },
   "outputs": [],
   "source": [
    "url2='https://twitter.com/marswxreport?lang=en'\n",
    "response2 = requests.get(url2)\n",
    "soup2 = BeautifulSoup(response2.text, 'lxml')\n",
    "soup2.prettify()\n",
    "content2=soup2.find('p', class_=\"TweetTextSize TweetTextSize--normal js-tweet-text tweet-text\")\n",
    "weather=content2.text"
   ]
  },
  {
   "cell_type": "code",
   "execution_count": 6,
   "metadata": {},
   "outputs": [],
   "source": [
    "url3 = 'https://space-facts.com/mars/'\n",
    "tables = pd.read_html(url3)\n",
    "df = tables[0]\n",
    "df.columns = ['Parameter', 'Value']\n",
    "\n",
    "df.set_index('Parameter', inplace=True)\n",
    "df.head()\n",
    "\n",
    "html_table = df.to_html()\n",
    "html_table\n",
    "\n",
    "html_table.replace('\\n', '')\n",
    "df.to_html('table.html')\n",
    "!open table.html"
   ]
  },
  {
   "cell_type": "code",
   "execution_count": 7,
   "metadata": {},
   "outputs": [
    {
     "data": {
      "text/plain": [
       "'Cerberus Hemisphere Enhanced'"
      ]
     },
     "execution_count": 7,
     "metadata": {},
     "output_type": "execute_result"
    }
   ],
   "source": [
    "url4='https://astrogeology.usgs.gov/search/map/Mars/Viking/cerberus_enhanced'\n",
    "response4 = requests.get(url4)\n",
    "response4\n",
    "soup4 = BeautifulSoup(response4.text, 'lxml')\n",
    "soup4.prettify()\n",
    "\n",
    "cer_img=soup4.find('img', class_=\"wide-image\")['src']\n",
    "cerberus_url=\"https://astrogeology.usgs.gov/\"+cer_img\n",
    "cerberus_url\n",
    "sci_title=soup4.find('h2', class_=\"title\")\n",
    "cerberus_title=sci_title.text\n",
    "cerberus_title"
   ]
  },
  {
   "cell_type": "code",
   "execution_count": 8,
   "metadata": {},
   "outputs": [
    {
     "data": {
      "text/plain": [
       "'Schiaparelli Hemisphere Enhanced'"
      ]
     },
     "execution_count": 8,
     "metadata": {},
     "output_type": "execute_result"
    }
   ],
   "source": [
    "url5='https://astrogeology.usgs.gov/search/map/Mars/Viking/schiaparelli_enhanced'\n",
    "response5 = requests.get(url5)\n",
    "response5\n",
    "soup5 = BeautifulSoup(response5.text, 'lxml')\n",
    "soup5.prettify()\n",
    "\n",
    "schi_img=soup5.find('img', class_=\"wide-image\")['src']\n",
    "schiaparelli_url=\"https://astrogeology.usgs.gov/\"+schi_img\n",
    "schiaparelli_url\n",
    "sci_title=soup5.find('h2', class_=\"title\")\n",
    "schiaparelli_title=sci_title.text\n",
    "schiaparelli_title"
   ]
  },
  {
   "cell_type": "code",
   "execution_count": 9,
   "metadata": {},
   "outputs": [
    {
     "data": {
      "text/plain": [
       "'Syrtis Major Hemisphere Enhanced'"
      ]
     },
     "execution_count": 9,
     "metadata": {},
     "output_type": "execute_result"
    }
   ],
   "source": [
    "url6='https://astrogeology.usgs.gov/search/map/Mars/Viking/syrtis_major_enhanced'\n",
    "response6 = requests.get(url6)\n",
    "response6\n",
    "soup6 = BeautifulSoup(response6.text, 'lxml')\n",
    "soup6.prettify()\n",
    "\n",
    "syrtis_img=soup6.find('img', class_=\"wide-image\")['src']\n",
    "syrtis_url=\"https://astrogeology.usgs.gov/\"+syrtis_img\n",
    "syrtis_url\n",
    "syrtis_title=soup6.find('h2', class_=\"title\")\n",
    "syrtis_title=syrtis_title.text\n",
    "syrtis_title"
   ]
  },
  {
   "cell_type": "code",
   "execution_count": 10,
   "metadata": {},
   "outputs": [
    {
     "data": {
      "text/plain": [
       "'Valles Marineris Hemisphere Enhanced'"
      ]
     },
     "execution_count": 10,
     "metadata": {},
     "output_type": "execute_result"
    }
   ],
   "source": [
    "url7='https://astrogeology.usgs.gov/search/map/Mars/Viking/valles_marineris_enhanced'\n",
    "response7 = requests.get(url7)\n",
    "response7\n",
    "soup7 = BeautifulSoup(response7.text, 'lxml')\n",
    "soup7.prettify()\n",
    "\n",
    "valles_img=soup7.find('img', class_=\"wide-image\")['src']\n",
    "valles_url=\"https://astrogeology.usgs.gov/\"+valles_img\n",
    "valles_url\n",
    "valles_title=soup7.find('h2', class_=\"title\")\n",
    "valles_title=valles_title.text\n",
    "valles_title"
   ]
  },
  {
   "cell_type": "code",
   "execution_count": 11,
   "metadata": {},
   "outputs": [],
   "source": [
    "hemisphere_image_urls = [\n",
    "    {\"title\": valles_title, \"img_url\": valles_url},\n",
    "    {\"title\": cerberus_title, \"img_url\": cerberus_url},\n",
    "    {\"title\": schiaparelli_title, \"img_url\": schiaparelli_url},\n",
    "    {\"title\": syrtis_title, \"img_url\": syrtis_url},\n",
    "]\n"
   ]
  },
  {
   "cell_type": "code",
   "execution_count": 12,
   "metadata": {},
   "outputs": [
    {
     "data": {
      "text/plain": [
       "'https://astrogeology.usgs.gov//cache/images/7cf2da4bf549ed01c17f206327be4db7_valles_marineris_enhanced.tif_full.jpg'"
      ]
     },
     "execution_count": 12,
     "metadata": {},
     "output_type": "execute_result"
    }
   ],
   "source": [
    "hemisphere_image_urls[0][\"img_url\"]"
   ]
  }
 ],
 "metadata": {
  "kernelspec": {
   "display_name": "Python 3",
   "language": "python",
   "name": "python3"
  },
  "language_info": {
   "codemirror_mode": {
    "name": "ipython",
    "version": 3
   },
   "file_extension": ".py",
   "mimetype": "text/x-python",
   "name": "python",
   "nbconvert_exporter": "python",
   "pygments_lexer": "ipython3",
   "version": "3.6.5"
  }
 },
 "nbformat": 4,
 "nbformat_minor": 2
}
