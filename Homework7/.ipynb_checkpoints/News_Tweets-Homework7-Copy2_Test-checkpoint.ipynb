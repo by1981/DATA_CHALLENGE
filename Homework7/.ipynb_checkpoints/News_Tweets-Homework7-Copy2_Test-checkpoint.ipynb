{
 "cells": [
  {
   "cell_type": "code",
   "execution_count": 1,
   "metadata": {},
   "outputs": [],
   "source": [
    "# Dependencies\n",
    "import tweepy\n",
    "import json\n",
    "import numpy as np\n",
    "from datetime import datetime\n",
    "import pandas as pd\n",
    "from datetime import datetime\n",
    "from config import consumer_key, consumer_secret, access_token, access_token_secret\n",
    "from vaderSentiment.vaderSentiment import SentimentIntensityAnalyzer\n",
    "analyzer = SentimentIntensityAnalyzer()\n",
    "import matplotlib.pyplot as plt\n",
    "from matplotlib import style\n",
    "style.use('ggplot')"
   ]
  },
  {
   "cell_type": "code",
   "execution_count": 2,
   "metadata": {},
   "outputs": [],
   "source": [
    "# Setup Tweepy API Authentication\n",
    "auth = tweepy.OAuthHandler(consumer_key, consumer_secret)\n",
    "auth.set_access_token(access_token, access_token_secret)\n",
    "api = tweepy.API(auth)"
   ]
  },
  {
   "cell_type": "code",
   "execution_count": 7,
   "metadata": {
    "scrolled": true
   },
   "outputs": [
    {
     "ename": "NameError",
     "evalue": "name 'BBC_dict' is not defined",
     "output_type": "error",
     "traceback": [
      "\u001b[0;31m---------------------------------------------------------------------------\u001b[0m",
      "\u001b[0;31mNameError\u001b[0m                                 Traceback (most recent call last)",
      "\u001b[0;32m<ipython-input-7-934fc1ac0e98>\u001b[0m in \u001b[0;36m<module>\u001b[0;34m()\u001b[0m\n\u001b[1;32m     81\u001b[0m \u001b[0;31m#     CNN_dict_df=pd.DataFrame(CNN_dict)\u001b[0m\u001b[0;34m\u001b[0m\u001b[0;34m\u001b[0m\u001b[0m\n\u001b[1;32m     82\u001b[0m \u001b[0;31m#     CNN_dict_df.to_csv(\"CNN_Tweet_Report.csv\")\u001b[0m\u001b[0;34m\u001b[0m\u001b[0;34m\u001b[0m\u001b[0m\n\u001b[0;32m---> 83\u001b[0;31m     \u001b[0mBBC_dict_df\u001b[0m\u001b[0;34m=\u001b[0m\u001b[0mpd\u001b[0m\u001b[0;34m.\u001b[0m\u001b[0mDataFrame\u001b[0m\u001b[0;34m(\u001b[0m\u001b[0mBBC_dict\u001b[0m\u001b[0;34m)\u001b[0m\u001b[0;34m\u001b[0m\u001b[0m\n\u001b[0m\u001b[1;32m     84\u001b[0m     \u001b[0mBBC_dict_df\u001b[0m\u001b[0;34m.\u001b[0m\u001b[0mto_csv\u001b[0m\u001b[0;34m(\u001b[0m\u001b[0;34m\"BBC_Tweet_Report.csv\"\u001b[0m\u001b[0;34m)\u001b[0m\u001b[0;34m\u001b[0m\u001b[0m\n\u001b[1;32m     85\u001b[0m     \u001b[0mCBS_dict_dict_df\u001b[0m\u001b[0;34m=\u001b[0m\u001b[0mpd\u001b[0m\u001b[0;34m.\u001b[0m\u001b[0mDataFrame\u001b[0m\u001b[0;34m(\u001b[0m\u001b[0mCBS_dict\u001b[0m\u001b[0;34m)\u001b[0m\u001b[0;34m\u001b[0m\u001b[0m\n",
      "\u001b[0;31mNameError\u001b[0m: name 'BBC_dict' is not defined"
     ]
    }
   ],
   "source": [
    "target_user= [\"@CNN\",\"@BBC\",\"@CBS\",\"@nytimes\",\"@FoxNews\"]\n",
    "\n",
    "n_items = 100\n",
    "sentiment_array = []\n",
    "tweet_text=[]\n",
    "for target in target_user:\n",
    "    tweet_text=[]\n",
    "    compound_list=[]\n",
    "    pos_list = []\n",
    "    neg_list = []\n",
    "    neu_list = []\n",
    "    sentiment=[]\n",
    "    tweet_time_objects = []\n",
    "    tweet_times=[]\n",
    "    for status in tweepy.Cursor(api.user_timeline, id=target,tweet_mode=\"extended\").items(n_items):\n",
    "        tweet = status._json\n",
    "        result=analyzer.polarity_scores(tweet['full_text'])\n",
    "        tweet_text.append(tweet['full_text'])\n",
    "        tweet_times.append(tweet[\"created_at\"])\n",
    "#         for x in range(len(tweet_times)):\n",
    "#             tweet_datetime = datetime.strptime(tweet_times[x], \"%a %b %d %H:%M:%S %z %Y\")\n",
    "#             tweet_time_objects.append(tweet_datetime)\n",
    "        compound_list.append(result['compound'])\n",
    "        pos_list.append(result['pos'])\n",
    "        neg_list.append(result['neg'])\n",
    "        neu_list.append(result['neu'])\n",
    "        if target==\"@CNN\":\n",
    "            CNN_dict={\"User\": target,\"Tweet\":tweet_text,\"Compound\": compound_list,\"Positive\": pos_list,\"Neutral\": neg_list,\"Negative\": neu_list,\"Tweet Count\": len(compound_list),\"Time of Tweet\":tweet_times}\n",
    "            time_in_between = []\n",
    "            for x in range(len(tweet_times)):\n",
    "                tweet_datetime = datetime.strptime(tweet_times[x], \"%a %b %d %H:%M:%S %z %Y\")\n",
    "                tweet_time_objects.append(tweet_datetime)\n",
    "            for x in range(len(tweet_time_objects)-1):\n",
    "                time_apart = ((tweet_time_objects[x] - tweet_time_objects[x+1]).seconds) / 3600\n",
    "                time_in_between.append(time_apart)\n",
    "        elif target==\"@BBC\":\n",
    "            BBC_dict={\"User\": target,\"Tweet\":tweet_text,\"Compound\": compound_list,\"Positive\": pos_list,\"Neutral\": neg_list,\"Negative\": neu_list,\"Tweet Count\": len(compound_list),\"Time of Tweet\":tweet_times}\n",
    "            for x in range(len(tweet_times)):\n",
    "                tweet_datetime = datetime.strptime(tweet_times[x], \"%a %b %d %H:%M:%S %z %Y\")\n",
    "                tweet_time_objects.append(tweet_datetime)\n",
    "            for x in range(len(tweet_time_objects)-1):\n",
    "                time_apart = ((tweet_time_objects[x] - tweet_time_objects[x+1]).seconds) / 3600\n",
    "                time_in_between.append(time_apart)\n",
    "        elif target==\"@CBS\":\n",
    "            CBS_dict={\"User\": target,\"Tweet\":tweet_text,\"Compound\": compound_list,\"Positive\": pos_list,\"Neutral\": neg_list,\"Negative\": neu_list,\"Tweet Count\": len(compound_list),\"Time of Tweet\":tweet_times}\n",
    "            for x in range(len(tweet_times)):\n",
    "                tweet_datetime = datetime.strptime(tweet_times[x], \"%a %b %d %H:%M:%S %z %Y\")\n",
    "                tweet_time_objects.append(tweet_datetime)\n",
    "            for x in range(len(tweet_time_objects)-1):\n",
    "                time_apart = ((tweet_time_objects[x] - tweet_time_objects[x+1]).seconds) / 3600\n",
    "                time_in_between.append(time_apart)\n",
    "            \n",
    "        elif target==\"@nytimes\":\n",
    "            nytimes_dict={\"User\": target,\"Tweet\":tweet_text,\"Compound\": compound_list,\"Positive\": pos_list,\"Neutral\": neg_list,\"Negative\": neu_list,\"Tweet Count\": len(compound_list),\"Time of Tweet\":tweet_times}\n",
    "            for x in range(len(tweet_times)):\n",
    "                tweet_datetime = datetime.strptime(tweet_times[x], \"%a %b %d %H:%M:%S %z %Y\")\n",
    "                tweet_time_objects.append(tweet_datetime)\n",
    "            for x in range(len(tweet_time_objects)-1):\n",
    "                time_apart = ((tweet_time_objects[x] - tweet_time_objects[x+1]).seconds) / 3600\n",
    "                time_in_between.append(time_apart)\n",
    "            \n",
    "        elif target==\"@FoxNews\":\n",
    "            FoxNews_dict={\"User\": target,\"Tweet\":tweet_text,\"Compound\": compound_list,\"Positive\": pos_list,\"Neutral\": neg_list,\"Negative\": neu_list,\"Tweet Count\": len(compound_list),\"Time of Tweet\":tweet_times}\n",
    "            for x in range(len(tweet_times)):\n",
    "                tweet_datetime = datetime.strptime(tweet_times[x], \"%a %b %d %H:%M:%S %z %Y\")\n",
    "                tweet_time_objects.append(tweet_datetime)\n",
    "            for x in range(len(tweet_time_objects)-1):\n",
    "                time_apart = ((tweet_time_objects[x] - tweet_time_objects[x+1]).seconds) / 3600\n",
    "                time_in_between.append(time_apart)\n",
    "            \n",
    "    CNN_dict_df=pd.DataFrame(CNN_dict)\n",
    "    CNN_dict_df.to_csv(\"CNN_Tweet_Report.csv\")\n",
    "    BBC_dict_df=pd.DataFrame(BBC_dict)\n",
    "    BBC_dict_df.to_csv(\"BBC_Tweet_Report.csv\")\n",
    "    CBS_dict_dict_df=pd.DataFrame(CBS_dict)\n",
    "    CBS_dict_df.to_csv(\"CBS_Tweet_Report.csv\")\n",
    "    nytimes_dict_df=pd.DataFrame(nytimes_dict)\n",
    "    nytimes_dict_df.to_csv(\"nytimes_Tweet_Report.csv\")\n",
    "    FoxNews_dict_df=pd.DataFrame(FoxNews_dict)\n",
    "    \n",
    "    sentiment = {\"User\": target,\n",
    "                 \"Compound\": \"{0:.2f}\".format(np.mean(compound_list)),\n",
    "                 \"Positive\": \"{0:.2f}\".format(np.mean(pos_list)),\n",
    "                 \"Neutral\": \"{0:.2f}\".format(np.mean(neg_list)),\n",
    "                 \"Negative\": \"{0:.2f}\".format(np.mean(neu_list)),\n",
    "                 \"Tweet Count\": len(compound_list),\n",
    "                 \"Average Tweet Time\":\"{0:.2f}\".format(np.mean(time_in_between))}\n",
    "    sentiment_array.append(sentiment)\n",
    "sentiment_array_df=pd.DataFrame(sentiment_array)\n",
    "\n",
    "#sentiment_array_df\n",
    "nytimes_dict_df.head(20)"
   ]
  },
  {
   "cell_type": "code",
   "execution_count": null,
   "metadata": {},
   "outputs": [],
   "source": [
    "color4_df=pd.DataFrame({ 'color_1': [\"r\",\"lightblue\",\"green\",\"yellow\",\"blue\"],\n",
    "                        'source': [\"@CNN\",\"@BBC\",\"@CBS\",\"@nytimes\",\"@FoxNews\"],\n",
    "                        't':['a','b','c','d','e']})"
   ]
  },
  {
   "cell_type": "code",
   "execution_count": null,
   "metadata": {
    "scrolled": false
   },
   "outputs": [],
   "source": [
    "x=range(0,n_items)\n",
    "plt.figure(figsize=(9,7))\n",
    "plt.scatter(x,CNN_dict[\"Compound\"], s=100 ,color='red',edgecolors=\"black\" )\n",
    "plt.scatter(x,BBC_dict[\"Compound\"], s=100 ,color='lightblue',edgecolors=\"black\" )\n",
    "plt.scatter(x,CBS_dict[\"Compound\"], s=100 ,color='green' ,edgecolors=\"black\")\n",
    "plt.scatter(x,nytimes_dict[\"Compound\"], s=100 ,color='yellow' ,edgecolors=\"black\")\n",
    "plt.scatter(x,FoxNews_dict[\"Compound\"], s=100 ,color='blue',edgecolors=\"black\" )\n",
    "plt.legend(color4_df['source'],numpoints=.2, bbox_to_anchor=(1.05, 1.01))#, loc='upper right')\n",
    "\n",
    "\n",
    "now = datetime.now()\n",
    "now = now.strftime(\"%Y-%m-%d %H:%M\")\n",
    "plt.title(f\"Sentiment Analysis of Tweets ({now}) for {target_user1},{target_user2},{target_user3},{target_user4}, and {target_user5}\")\n",
    "plt.ylabel(\"Tweet Polarity\")\n",
    "plt.xlabel(\"Tweets Ago\")\n",
    "ax = plt.gca().invert_xaxis()"
   ]
  },
  {
   "cell_type": "code",
   "execution_count": null,
   "metadata": {},
   "outputs": [],
   "source": [
    "x=[]\n",
    "y=[]\n",
    "for i in range(len(sentiment_array)):\n",
    "    x.append(sentiment_array[i]['User'])\n",
    "    y.append(float(sentiment_array[i]['Compound']))\n",
    "print(x)\n",
    "print(y)\n",
    "fig = plt.figure(figsize=(7,5))\n",
    "my_colors = [\"r\",\"lightblue\",\"green\",\"yellow\",\"blue\"]\n",
    "now = datetime.now()\n",
    "now = now.strftime(\"%Y-%m-%d %H:%M\")\n",
    "plt.title(f\"Overall Media Sentiment based on Twitter  ({now})\")\n",
    "plt.ylabel(\"Tweet Polarity\")\n",
    "plt.xlabel(\"News Source\")\n",
    "plt.bar(x,y, color=my_colors)\n",
    "plt.ylim(-.2, .5)"
   ]
  },
  {
   "cell_type": "code",
   "execution_count": null,
   "metadata": {},
   "outputs": [],
   "source": [
    "x=[]\n",
    "y=[]\n",
    "for i in range(len(sentiment_array)):\n",
    "    x.append(sentiment_array[i]['User'])\n",
    "    y.append(float(sentiment_array[i]['Average Tweet Time']))\n",
    "print(x)\n",
    "print(y)\n",
    "fig = plt.figure(figsize=(7,5))\n",
    "my_colors = [\"r\",\"lightblue\",\"green\",\"yellow\",\"blue\"]\n",
    "now = datetime.now()\n",
    "now = now.strftime(\"%Y-%m-%d %H:%M\")\n",
    "plt.title(f\"Overall Media Sentiment based on Twitter  ({now})\")\n",
    "plt.ylabel(\"Average Tweet Time\")\n",
    "plt.xlabel(\"News Source\")\n",
    "plt.bar(x,y, color=my_colors)\n",
    "#plt.ylim(-.2, .5)"
   ]
  }
 ],
 "metadata": {
  "kernelspec": {
   "display_name": "Python 3",
   "language": "python",
   "name": "python3"
  },
  "language_info": {
   "codemirror_mode": {
    "name": "ipython",
    "version": 3
   },
   "file_extension": ".py",
   "mimetype": "text/x-python",
   "name": "python",
   "nbconvert_exporter": "python",
   "pygments_lexer": "ipython3",
   "version": "3.6.4"
  },
  "varInspector": {
   "cols": {
    "lenName": 16,
    "lenType": 16,
    "lenVar": 40
   },
   "kernels_config": {
    "python": {
     "delete_cmd_postfix": "",
     "delete_cmd_prefix": "del ",
     "library": "var_list.py",
     "varRefreshCmd": "print(var_dic_list())"
    },
    "r": {
     "delete_cmd_postfix": ") ",
     "delete_cmd_prefix": "rm(",
     "library": "var_list.r",
     "varRefreshCmd": "cat(var_dic_list()) "
    }
   },
   "types_to_exclude": [
    "module",
    "function",
    "builtin_function_or_method",
    "instance",
    "_Feature"
   ],
   "window_display": false
  }
 },
 "nbformat": 4,
 "nbformat_minor": 2
}
